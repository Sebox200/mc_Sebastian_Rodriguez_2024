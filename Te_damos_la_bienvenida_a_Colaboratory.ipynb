{
  "cells": [
    {
      "cell_type": "markdown",
      "metadata": {
        "id": "view-in-github",
        "colab_type": "text"
      },
      "source": [
        "<a href=\"https://colab.research.google.com/github/Sebox200/mc_Sebastian_Rodriguez_2024/blob/main/Te_damos_la_bienvenida_a_Colaboratory.ipynb\" target=\"_parent\"><img src=\"https://colab.research.google.com/assets/colab-badge.svg\" alt=\"Open In Colab\"/></a>"
      ]
    },
    {
      "cell_type": "code",
      "source": [
        "def obtener_conjunto():\n",
        "    conjunto = set()\n",
        "    while True:\n",
        "        try:\n",
        "            entrada = input(\"Ingrese un número decimal (o 'fin' para terminar): \")\n",
        "            if entrada.lower() == 'fin':\n",
        "                break\n",
        "            numero = float(entrada)\n",
        "            conjunto.add(numero)\n",
        "        except ValueError:\n",
        "            print(\"Ingrese un número decimal válido o 'fin' para terminar.\")\n",
        "    return conjunto\n",
        "\n",
        "def main():\n",
        "    print(\"Ingrese los elementos del primer conjunto:\")\n",
        "    conjunto1 = obtener_conjunto()\n",
        "\n",
        "    print(\"\\nIngrese los elementos del segundo conjunto:\")\n",
        "    conjunto2 = obtener_conjunto()\n",
        "\n",
        "    operacion = input(\"\\n¿Qué operación desea realizar entre los conjuntos? (unión, intersección, diferencia o diferencia simétrica): \").lower()\n",
        "\n",
        "    if operacion == \"union\":\n",
        "        resultado = conjunto1.union(conjunto2)\n",
        "    elif operacion == \"interseccion\":\n",
        "        resultado = conjunto1.intersection(conjunto2)\n",
        "    elif operacion == \"diferencia\":\n",
        "        resultado = conjunto1.difference(conjunto2)\n",
        "    elif operacion == \"diferencia simetrica\":\n",
        "        resultado = conjunto1.symmetric_difference(conjunto2)\n",
        "    else:\n",
        "        print(\"Operación no válida.\")\n",
        "        return\n",
        "\n",
        "    print(\"\\nConjunto resultante:\", resultado)\n",
        "    print(\"Cardinalidad del conjunto resultante:\", len(resultado))\n",
        "\n",
        "if __name__ == \"__main__\":\n",
        "    main()"
      ],
      "metadata": {
        "id": "ekgE8ndg5daV",
        "outputId": "09099374-94ae-49d2-b3e0-5f2c974ebe53",
        "colab": {
          "base_uri": "https://localhost:8080/"
        }
      },
      "execution_count": 4,
      "outputs": [
        {
          "output_type": "stream",
          "name": "stdout",
          "text": [
            "Ingrese los elementos del primer conjunto:\n",
            "Ingrese un número decimal (o 'fin' para terminar): 1.5\n",
            "Ingrese un número decimal (o 'fin' para terminar): 3\n",
            "Ingrese un número decimal (o 'fin' para terminar): 2\n",
            "Ingrese un número decimal (o 'fin' para terminar): fin\n",
            "\n",
            "Ingrese los elementos del segundo conjunto:\n",
            "Ingrese un número decimal (o 'fin' para terminar): 4\n",
            "Ingrese un número decimal (o 'fin' para terminar): 2\n",
            "Ingrese un número decimal (o 'fin' para terminar): 1\n",
            "Ingrese un número decimal (o 'fin' para terminar): fin\n",
            "\n",
            "¿Qué operación desea realizar entre los conjuntos? (unión, intersección, diferencia o diferencia simétrica): diferencia\n",
            "\n",
            "Conjunto resultante: {1.5, 3.0}\n",
            "Cardinalidad del conjunto resultante: 2\n"
          ]
        }
      ]
    }
  ],
  "metadata": {
    "colab": {
      "name": "Te damos la bienvenida a Colaboratory",
      "toc_visible": true,
      "provenance": [],
      "include_colab_link": true
    },
    "kernelspec": {
      "display_name": "Python 3",
      "name": "python3"
    }
  },
  "nbformat": 4,
  "nbformat_minor": 0
}